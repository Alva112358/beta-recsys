{
 "cells": [
  {
   "cell_type": "code",
   "execution_count": 1,
   "metadata": {},
   "outputs": [
    {
     "name": "stdout",
     "output_type": "stream",
     "text": [
      "loading dunnhumby dataset using temporal split\n",
      "n_users reduce from -1  to: 2033\n",
      "n_items reduce from -1  to: 23977\n",
      "n_users reduce from 2033  to: 2033\n",
      "n_items reduce from 23977  to: 23965\n",
      "Filling unigram table\n",
      "Filling unigram table\n",
      "init user featrue for dataset: dunnhumby  type: random\n",
      "loading item featrue for dataset: dunnhumby  type: random_word2vec\n",
      "load basic item featrue for dataset: dunnhumby  type: word2vec\n"
     ]
    }
   ],
   "source": [
    "from data_util import Dataset\n",
    "\n",
    "config = {\n",
    "    \"root_dir\": \"../../\",\n",
    "    \"dataset\": \"dunnhumby\",\n",
    "    \"user_fea_type\": \"random\",\n",
    "    \"item_fea_type\": \"random_word2vec\",\n",
    "    \"data_split\": \"temporal\",\n",
    "    \"random_dim\": 256,\n",
    "}\n",
    "dataset = Dataset(config)"
   ]
  },
  {
   "cell_type": "code",
   "execution_count": 2,
   "metadata": {},
   "outputs": [
    {
     "name": "stdout",
     "output_type": "stream",
     "text": [
      "data load finish\n"
     ]
    }
   ],
   "source": [
    "sigma_matrix, rating_matrix = dataset.generate_train_data()"
   ]
  },
  {
   "cell_type": "code",
   "execution_count": null,
   "metadata": {},
   "outputs": [],
   "source": []
  }
 ],
 "metadata": {
  "kernelspec": {
   "display_name": "py37torch13",
   "language": "python",
   "name": "py37torch13"
  },
  "language_info": {
   "codemirror_mode": {
    "name": "ipython",
    "version": 3
   },
   "file_extension": ".py",
   "mimetype": "text/x-python",
   "name": "python",
   "nbconvert_exporter": "python",
   "pygments_lexer": "ipython3",
   "version": "3.7.5"
  }
 },
 "nbformat": 4,
 "nbformat_minor": 4
}
