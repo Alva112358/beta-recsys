{
 "cells": [
  {
   "cell_type": "code",
   "execution_count": 1,
   "metadata": {},
   "outputs": [],
   "source": [
    "\"\"\"\n",
    "Created on Aug 5, 2019 BY @zaiqiao\n",
    "\n",
    "(1) init_logger\n",
    "basic logger\n",
    "\n",
    "(2) init_std_logger\n",
    "Easy tools to record all the std output into files.\n",
    "\n",
    "Classes describing datasets of user-item interactions. Instances of these\n",
    "are returned by dataset fetching and dataset pre-processing functions.\n",
    "\n",
    "Some codes are modelfied based on github.com/microsoft/recommenders\n",
    "\n",
    "@zaiqiao: Zaiqiao Meng (zaiqiao.meng@gmail.com)\n",
    "\n",
    "\"\"\"\n",
    "\n",
    "import logging\n",
    "import sys\n",
    "from datetime import datetime\n",
    "\n",
    "\n",
    "def init_logger(log_file_name=\"log\", console=True, error=True, debug=False):\n",
    "    logger = logging.getLogger()\n",
    "    logger.setLevel(\"DEBUG\")\n",
    "    formatter = logging.Formatter(BASIC_FORMAT, DATE_FORMAT)\n",
    "\n",
    "    file_out_info = logging.FileHandler(log_file_name + \".info\")\n",
    "    file_out_info.setFormatter(formatter)\n",
    "    file_out_info.setLevel(\"INFO\")\n",
    "    logger.addHandler(file_out_info)\n",
    "\n",
    "    if console:\n",
    "        con_out = logging.StreamHandler()\n",
    "        con_out.setFormatter(formatter)\n",
    "        con_out.setLevel(\"INFO\")\n",
    "        logger.addHandler(con_out)\n",
    "\n",
    "    if error:\n",
    "        file_out_error = logging.FileHandler(log_file_name + \".erro\")\n",
    "        file_out_error.setFormatter(formatter)\n",
    "        file_out_error.setLevel(\"ERROR\")\n",
    "        logger.addHandler(file_out_error)\n",
    "\n",
    "    if debug:\n",
    "        file_out_debug = logging.FileHandler(log_file_name + \".debug\")\n",
    "        file_out_debug.setFormatter(formatter)\n",
    "        file_out_debug.setLevel(\"DEBUG\")\n",
    "        logger.addHandler(file_out_debug)\n",
    "    print(\"Init logger sucussful.\")\n",
    "    return logger\n",
    "\n",
    "\n",
    "def get_logger(filename=\"default\", level=\"info\"):\n",
    "    logger = logging.getLogger()\n",
    "    BASIC_FORMAT = \"%(asctime)s:%(levelname)s - %(message)s\"\n",
    "    DATE_FORMAT = \"%Y-%m-%d %H:%M:%S\"\n",
    "    formatter = logging.Formatter(BASIC_FORMAT, DATE_FORMAT)\n",
    "    if level == \"info\":\n",
    "        file_out_info = logging.FileHandler(filename + \".log\")\n",
    "        file_out_info.setFormatter(formatter)\n",
    "        file_out_info.setLevel(\"INFO\")\n",
    "        logger.addHandler(file_out_info)\n",
    "    elif level == \"error\":\n",
    "        file_out_error = logging.FileHandler(filename + \".log\")\n",
    "        file_out_error.setFormatter(formatter)\n",
    "        file_out_error.setLevel(\"ERROR\")\n",
    "        logger.addHandler(file_out_error)\n",
    "    print(\"Init \", level, \"logger sucussful.\")\n",
    "    return logger\n",
    "\n",
    "\n",
    "class Logger(object):\n",
    "    def __init__(self, filename=\"default\", stdout=None, stderr=None):\n",
    "        self.stdout = stdout\n",
    "        self.stderr = stderr\n",
    "        self.filename = filename\n",
    "        self.message = \"\"\n",
    "\n",
    "    def write(self, message):\n",
    "        #         with open(self.filename, \"a\") as logger:\n",
    "        #             logger.write(str(len(message)) + \":\" + message + \"\\n\")\n",
    "\n",
    "        if message == \"\" or message == None:\n",
    "            return\n",
    "        elif \"\\n\" in message:\n",
    "            self.message += message\n",
    "            now = datetime.now()\n",
    "            date_time = now.strftime(\"%Y-%m-%d %H:%M:%S \")\n",
    "            if self.stdout != None:\n",
    "                self.message = date_time + \"[INFO:]-\" + self.message + \"\\n\"\n",
    "                self.stdout.write(self.message)\n",
    "                self.stdout.flush()\n",
    "            if self.stderr != None:\n",
    "                self.message = date_time + \"[ERROR:]-\" + self.message + \"\\n\"\n",
    "                self.stderr.write(self.message)\n",
    "                self.stderr.flush()\n",
    "            with open(self.filename, \"a\") as logger:\n",
    "                logger.write(self.message)\n",
    "            self.message = \"\"\n",
    "        else:\n",
    "            self.message += message\n",
    "\n",
    "    def flush(self):\n",
    "        pass\n",
    "\n",
    "\n",
    "# capture stderr and stdout\n",
    "def init_std_logger(log_file_name=\"out\"):\n",
    "    sys.stdout = Logger(log_file_name + \".stdout.log\", stdout=sys.stdout)\n",
    "    sys.stderr = Logger(log_file_name + \".stderr.log\", stderr=sys.stderr)"
   ]
  },
  {
   "cell_type": "code",
   "execution_count": 2,
   "metadata": {},
   "outputs": [
    {
     "name": "stdout",
     "output_type": "stream",
     "text": [
      "2020-02-10 16:19:24 [INFO:]-test: 0 -----\n",
      "\n",
      "2020-02-10 16:19:24 [INFO:]-test: 1 -----\n",
      "\n",
      "2020-02-10 16:19:24 [INFO:]-test: 2 -----\n",
      "\n",
      "2020-02-10 16:19:24 [INFO:]-test: 3 -----\n",
      "\n",
      "2020-02-10 16:19:24 [INFO:]-test: 4 -----\n",
      "\n",
      "2020-02-10 16:19:24 [INFO:]-test: 5 -----\n",
      "\n",
      "2020-02-10 16:19:24 [INFO:]-test: 6 -----\n",
      "\n",
      "2020-02-10 16:19:24 [INFO:]-test: 7 -----\n",
      "\n",
      "2020-02-10 16:19:24 [INFO:]-test: 8 -----\n",
      "\n",
      "2020-02-10 16:19:24 [INFO:]-test: 9 -----\n",
      "\n"
     ]
    },
    {
     "name": "stderr",
     "output_type": "stream",
     "text": [
      "2020-02-10 16:19:24 [ERROR:]-12\n",
      "\n",
      "2020-02-10 16:19:24 [ERROR:]-test:\n",
      "\n"
     ]
    },
    {
     "name": "stdout",
     "output_type": "stream",
     "text": [
      "2020-02-10 16:19:24 [INFO:]-test: 9 -----\n",
      "\n"
     ]
    },
    {
     "name": "stderr",
     "output_type": "stream",
     "text": [
      "2020-02-10 16:19:26 [ERROR:]-test:\n",
      "\n",
      "2020-02-10 16:19:27 [ERROR:]-12\n",
      "\n",
      "2020-02-10 16:19:29 [ERROR:]-/users/tr.zaiqm/anaconda3/lib/python3.7/site-packages/IPython/core/interactiveshell.py:3334: UserWarning: To exit: use 'exit', 'quit', or Ctrl-D.\n",
      "  warn(\"To exit: use 'exit', 'quit', or Ctrl-D.\", stacklevel=1)\n",
      "\n"
     ]
    },
    {
     "name": "stdout",
     "output_type": "stream",
     "text": [
      "2020-02-10 16:19:46 [INFO:]-test:\n",
      "\n"
     ]
    },
    {
     "name": "stderr",
     "output_type": "stream",
     "text": [
      "2020-02-10 16:19:47 [ERROR:]-12\n",
      "\n",
      "2020-02-10 16:19:48 [ERROR:]-12\n",
      "\n",
      "2020-02-10 16:19:50 [ERROR:]-test:\n",
      "\n"
     ]
    }
   ],
   "source": [
    "logger = init_std_logger(log_file_name=\"out\")\n",
    "for i in range(10):\n",
    "    print(\"test:\", str(i), \"-----\")"
   ]
  },
  {
   "cell_type": "code",
   "execution_count": 13,
   "metadata": {},
   "outputs": [],
   "source": [
    "sys.stderr.write(\"12\\n\")"
   ]
  },
  {
   "cell_type": "code",
   "execution_count": 14,
   "metadata": {},
   "outputs": [],
   "source": [
    "sys.stderr.write(\"test:\\n\")"
   ]
  },
  {
   "cell_type": "code",
   "execution_count": 5,
   "metadata": {},
   "outputs": [],
   "source": [
    "print(\"test:\", str(i), \"-----\")"
   ]
  },
  {
   "cell_type": "code",
   "execution_count": 6,
   "metadata": {},
   "outputs": [],
   "source": [
    "print(\"test:\", str(i), \"-----\")"
   ]
  },
  {
   "cell_type": "code",
   "execution_count": 11,
   "metadata": {},
   "outputs": [],
   "source": [
    "print(\"test:\")"
   ]
  },
  {
   "cell_type": "code",
   "execution_count": 10,
   "metadata": {},
   "outputs": [
    {
     "ename": "SystemExit",
     "evalue": "-1",
     "output_type": "error",
     "traceback": [
      "An exception has occurred, use %tb to see the full traceback.\n",
      "\u001b[0;31mSystemExit\u001b[0m\u001b[0;31m:\u001b[0m -1\n"
     ]
    }
   ],
   "source": [
    "sys.exit(-1)"
   ]
  },
  {
   "cell_type": "code",
   "execution_count": 9,
   "metadata": {},
   "outputs": [
    {
     "ename": "ZeroDivisionError",
     "evalue": "division by zero",
     "output_type": "error",
     "traceback": [
      "\u001b[0;31m---------------------------------------------------------------------------\u001b[0m",
      "\u001b[0;31mZeroDivisionError\u001b[0m                         Traceback (most recent call last)",
      "\u001b[0;32m<ipython-input-9-9e1622b385b6>\u001b[0m in \u001b[0;36m<module>\u001b[0;34m\u001b[0m\n\u001b[0;32m----> 1\u001b[0;31m \u001b[0;36m1\u001b[0m\u001b[0;34m/\u001b[0m\u001b[0;36m0\u001b[0m\u001b[0;34m\u001b[0m\u001b[0;34m\u001b[0m\u001b[0m\n\u001b[0m",
      "\u001b[0;31mZeroDivisionError\u001b[0m: division by zero"
     ]
    }
   ],
   "source": [
    "1/0"
   ]
  },
  {
   "cell_type": "code",
   "execution_count": 1,
   "metadata": {},
   "outputs": [
    {
     "name": "stdout",
     "output_type": "stream",
     "text": [
      "2020-02-10 16:33:36 [INFO:]-test\n",
      "2020-02-10 16:33:36 [INFO:]-0\n",
      "2020-02-10 16:33:36 [INFO:]-1\n",
      "2020-02-10 16:33:36 [INFO:]-2\n",
      "2020-02-10 16:33:36 [INFO:]-3\n",
      "2020-02-10 16:33:36 [INFO:]-4\n",
      "2020-02-10 16:33:36 [INFO:]-5\n",
      "2020-02-10 16:33:36 [INFO:]-6\n",
      "2020-02-10 16:33:36 [INFO:]-7\n",
      "2020-02-10 16:33:36 [INFO:]-8\n",
      "2020-02-10 16:33:36 [INFO:]-9\n",
      "2020-02-10 16:33:36 [INFO:]-10\n",
      "2020-02-10 16:33:36 [INFO:]-11\n",
      "2020-02-10 16:33:36 [INFO:]-12\n",
      "2020-02-10 16:33:36 [INFO:]-13\n",
      "2020-02-10 16:33:36 [INFO:]-14\n",
      "2020-02-10 16:33:36 [INFO:]-15\n",
      "2020-02-10 16:33:36 [INFO:]-16\n",
      "2020-02-10 16:33:36 [INFO:]-17\n",
      "2020-02-10 16:33:36 [INFO:]-18\n",
      "2020-02-10 16:33:36 [ERROR:]-Traceback (most recent call last):\n",
      "2020-02-10 16:33:36 [ERROR:]-  File \"test_logger.py\", line 7, in <module>\n",
      "2020-02-10 16:33:36 [ERROR:]-    print(1/0)\n",
      "2020-02-10 16:33:36 [ERROR:]-ZeroDivisionError: division by zero\n"
     ]
    }
   ],
   "source": [
    "!python test_logger.py"
   ]
  },
  {
   "cell_type": "code",
   "execution_count": null,
   "metadata": {},
   "outputs": [],
   "source": []
  },
  {
   "cell_type": "code",
   "execution_count": null,
   "metadata": {},
   "outputs": [],
   "source": []
  }
 ],
 "metadata": {
  "kernelspec": {
   "display_name": "Python 3",
   "language": "python",
   "name": "python3"
  },
  "language_info": {
   "codemirror_mode": {
    "name": "ipython",
    "version": 3
   },
   "file_extension": ".py",
   "mimetype": "text/x-python",
   "name": "python",
   "nbconvert_exporter": "python",
   "pygments_lexer": "ipython3",
   "version": "3.7.4"
  }
 },
 "nbformat": 4,
 "nbformat_minor": 4
}
