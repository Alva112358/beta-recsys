{
 "cells": [
  {
   "cell_type": "code",
   "execution_count": 2,
   "metadata": {},
   "outputs": [
    {
     "name": "stdout",
     "output_type": "stream",
     "text": [
      "loading ta-feng dataset using temporal split\n",
      "n_users reduce from -1  to: 1965\n",
      "n_items reduce from -1  to: 2017\n",
      "Filling unigram table\n",
      "Filling unigram table\n",
      "init user featrue for dataset: tafeng  type: random\n",
      "init item featrue for dataset: tafeng  type: random\n"
     ]
    }
   ],
   "source": [
    "import sys\n",
    "\n",
    "sys.path.append(\"../\")\n",
    "from datasets import dataset\n",
    "from utils import data_util,triple_sampler,logger\n",
    "\n",
    "\n",
    "\n",
    "config = {\n",
    "    \"dataset\": \"tafeng\",\n",
    "    \"data_split\": \"temporal\",\n",
    "    \"result_file\": \"cornac_result.csv\",\n",
    "    \"root_dir\": \"../../\",\n",
    "    \"sample_file\":\"testsample_file.csv\",\n",
    "    \"temp_train\":0\n",
    "}\n",
    "train_df, validate_df, test_df = dataset.load(config)\n",
    "\n",
    "data = data_util.Dataset(\n",
    "    data_str=config[\"dataset\"], train=train_df, validate=validate_df, test=test_df,\n",
    ")"
   ]
  },
  {
   "cell_type": "code",
   "execution_count": null,
   "metadata": {},
   "outputs": [
    {
     "name": "stdout",
     "output_type": "stream",
     "text": [
      "logs will save in file: test.log .stdout.log .stderr.log\n",
      "2020-03-04 14:31:25 [INFO]-Initialize Sampler!\n",
      "2020-03-04 14:31:25 [INFO]-preparing training triples ... \n",
      "100%|##########| 1000000/1000000 [04:48<00:00, 3467.07it/s]\n",
      "2020-03-04 14:36:16 [INFO]-done!\n"
     ]
    }
   ],
   "source": [
    "logger.init_std_logger(\"test.log\")\n",
    "my_sampler = triple_sampler.Sampler(data.train, config['sample_file'],1000000)\n",
    "train_Triples = my_sampler.sample()"
   ]
  },
  {
   "cell_type": "code",
   "execution_count": null,
   "metadata": {},
   "outputs": [],
   "source": [
    "config = {\n",
    "    \"dataset\": \"tafeng\",\n",
    "    \"data_split\": \"temporal\",\n",
    "    \"result_file\": \"cornac_result.csv\",\n",
    "    \"root_dir\": \"../../\",\n",
    "    \"sample_file\":\"testsample_file.csv\",\n",
    "    \"temp_train\":0\n",
    "}\n",
    "if config[\"temp_train\"] and config[\"data_split\"] == \"temporal\":\n",
    "    print(1)"
   ]
  },
  {
   "cell_type": "code",
   "execution_count": null,
   "metadata": {},
   "outputs": [],
   "source": []
  },
  {
   "cell_type": "code",
   "execution_count": null,
   "metadata": {},
   "outputs": [],
   "source": []
  }
 ],
 "metadata": {
  "kernelspec": {
   "display_name": "py37torch13",
   "language": "python",
   "name": "py37torch13"
  },
  "language_info": {
   "codemirror_mode": {
    "name": "ipython",
    "version": 3
   },
   "file_extension": ".py",
   "mimetype": "text/x-python",
   "name": "python",
   "nbconvert_exporter": "python",
   "pygments_lexer": "ipython3",
   "version": "3.7.5"
  }
 },
 "nbformat": 4,
 "nbformat_minor": 4
}
